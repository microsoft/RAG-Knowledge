{
 "cells": [
  {
   "cell_type": "markdown",
   "metadata": {},
   "source": [
    "# AI Search Pull Type"
   ]
  },
  {
   "cell_type": "markdown",
   "metadata": {},
   "source": [
    "# 02_Chunking Optimization\n",
    "Tips for Chunking Optimization to create search indexes for RAG"
   ]
  },
  {
   "cell_type": "markdown",
   "metadata": {},
   "source": [
    "## Use case\n",
    "- Azure AI Search の サービス仕様ドキュメントをインプットにする。\n",
    "  - https://learn.microsoft.com/ja-jp/azure/search/\n",
    "- ドキュメントは OCR が必要。\n",
    "- 開発者マニュアルは、構造化されたセクションとなっている。\n",
    "- 各セクションは非常に詳細かつ専門性の高い技術解説が記載されており、ドキュメントサイズも大きい。\n",
    "- ドキュメントには、テキスト、テーブル、図、グラフなどが含まれるが、ここでは、テキスト、テーブルデータのみを扱う。\n",
    "\n",
    "## チャンキング設計\n",
    "- Document Intelligence で、Markdown形式でテキストデータを抽出済み。\n",
    "- 1つのドキュメントに大量のコンテキストが含まれており、ドキュメントサイズも大きいため、チャンキングを実施する。\n",
    "- ドキュメントは、技術要素ごとに明確なセクションわけがされており、各セクションで見るとLLMが扱えないレベルのデータサイズではない。そのため、セクション単位でチャンキングする。\n",
    "- 各チャンキングのContentはEmbeddingする。\n",
    "- Overlapping は行わない。\n",
    "- 広い意味のコンテキストを保持するために、上位2つのヘッダー（Markdown形式：#, ##）をメタデータとして保持する。例えば、検索インデックスに関する記載があった場合に、それが「キーワード検索」に属する情報なのか、「ベクトル検索」に属する情報なのかを判断するために保持する。"
   ]
  },
  {
   "cell_type": "code",
   "execution_count": 3,
   "metadata": {},
   "outputs": [
    {
     "name": "stdout",
     "output_type": "stream",
     "text": [
      "Requirement already satisfied: azure-search-documents==11.6.0b4 in c:\\users\\hishida\\repo\\rag-knowledge\\.venv\\lib\\site-packages (11.6.0b4)\n",
      "Requirement already satisfied: azure-core>=1.28.0 in c:\\users\\hishida\\repo\\rag-knowledge\\.venv\\lib\\site-packages (from azure-search-documents==11.6.0b4) (1.30.2)\n",
      "Requirement already satisfied: azure-common>=1.1 in c:\\users\\hishida\\repo\\rag-knowledge\\.venv\\lib\\site-packages (from azure-search-documents==11.6.0b4) (1.1.28)\n",
      "Requirement already satisfied: isodate>=0.6.0 in c:\\users\\hishida\\repo\\rag-knowledge\\.venv\\lib\\site-packages (from azure-search-documents==11.6.0b4) (0.6.1)\n",
      "Requirement already satisfied: requests>=2.21.0 in c:\\users\\hishida\\repo\\rag-knowledge\\.venv\\lib\\site-packages (from azure-core>=1.28.0->azure-search-documents==11.6.0b4) (2.32.3)\n",
      "Requirement already satisfied: six>=1.11.0 in c:\\users\\hishida\\repo\\rag-knowledge\\.venv\\lib\\site-packages (from azure-core>=1.28.0->azure-search-documents==11.6.0b4) (1.16.0)\n",
      "Requirement already satisfied: typing-extensions>=4.6.0 in c:\\users\\hishida\\repo\\rag-knowledge\\.venv\\lib\\site-packages (from azure-core>=1.28.0->azure-search-documents==11.6.0b4) (4.12.2)\n",
      "Requirement already satisfied: charset-normalizer<4,>=2 in c:\\users\\hishida\\repo\\rag-knowledge\\.venv\\lib\\site-packages (from requests>=2.21.0->azure-core>=1.28.0->azure-search-documents==11.6.0b4) (3.3.2)\n",
      "Requirement already satisfied: idna<4,>=2.5 in c:\\users\\hishida\\repo\\rag-knowledge\\.venv\\lib\\site-packages (from requests>=2.21.0->azure-core>=1.28.0->azure-search-documents==11.6.0b4) (3.7)\n",
      "Requirement already satisfied: urllib3<3,>=1.21.1 in c:\\users\\hishida\\repo\\rag-knowledge\\.venv\\lib\\site-packages (from requests>=2.21.0->azure-core>=1.28.0->azure-search-documents==11.6.0b4) (2.2.1)\n",
      "Requirement already satisfied: certifi>=2017.4.17 in c:\\users\\hishida\\repo\\rag-knowledge\\.venv\\lib\\site-packages (from requests>=2.21.0->azure-core>=1.28.0->azure-search-documents==11.6.0b4) (2024.6.2)\n",
      "Requirement already satisfied: openai in c:\\users\\hishida\\repo\\rag-knowledge\\.venv\\lib\\site-packages (1.34.0)\n",
      "Requirement already satisfied: python-dotenv in c:\\users\\hishida\\repo\\rag-knowledge\\.venv\\lib\\site-packages (1.0.1)\n",
      "Requirement already satisfied: azure-identity in c:\\users\\hishida\\repo\\rag-knowledge\\.venv\\lib\\site-packages (1.16.1)\n",
      "Requirement already satisfied: cohere in c:\\users\\hishida\\repo\\rag-knowledge\\.venv\\lib\\site-packages (5.5.8)\n",
      "Requirement already satisfied: azure-ai-vision-imageanalysis in c:\\users\\hishida\\repo\\rag-knowledge\\.venv\\lib\\site-packages (1.0.0b2)\n",
      "Requirement already satisfied: anyio<5,>=3.5.0 in c:\\users\\hishida\\repo\\rag-knowledge\\.venv\\lib\\site-packages (from openai) (4.4.0)\n",
      "Requirement already satisfied: distro<2,>=1.7.0 in c:\\users\\hishida\\repo\\rag-knowledge\\.venv\\lib\\site-packages (from openai) (1.9.0)\n",
      "Requirement already satisfied: httpx<1,>=0.23.0 in c:\\users\\hishida\\repo\\rag-knowledge\\.venv\\lib\\site-packages (from openai) (0.27.0)\n",
      "Requirement already satisfied: pydantic<3,>=1.9.0 in c:\\users\\hishida\\repo\\rag-knowledge\\.venv\\lib\\site-packages (from openai) (2.7.4)\n",
      "Requirement already satisfied: sniffio in c:\\users\\hishida\\repo\\rag-knowledge\\.venv\\lib\\site-packages (from openai) (1.3.1)\n",
      "Requirement already satisfied: tqdm>4 in c:\\users\\hishida\\repo\\rag-knowledge\\.venv\\lib\\site-packages (from openai) (4.66.4)\n",
      "Requirement already satisfied: typing-extensions<5,>=4.7 in c:\\users\\hishida\\repo\\rag-knowledge\\.venv\\lib\\site-packages (from openai) (4.12.2)\n",
      "Requirement already satisfied: azure-core>=1.23.0 in c:\\users\\hishida\\repo\\rag-knowledge\\.venv\\lib\\site-packages (from azure-identity) (1.30.2)\n",
      "Requirement already satisfied: cryptography>=2.5 in c:\\users\\hishida\\repo\\rag-knowledge\\.venv\\lib\\site-packages (from azure-identity) (42.0.8)\n",
      "Requirement already satisfied: msal>=1.24.0 in c:\\users\\hishida\\repo\\rag-knowledge\\.venv\\lib\\site-packages (from azure-identity) (1.28.1)\n",
      "Requirement already satisfied: msal-extensions>=0.3.0 in c:\\users\\hishida\\repo\\rag-knowledge\\.venv\\lib\\site-packages (from azure-identity) (1.1.0)\n",
      "Requirement already satisfied: boto3<2.0.0,>=1.34.0 in c:\\users\\hishida\\repo\\rag-knowledge\\.venv\\lib\\site-packages (from cohere) (1.34.131)\n",
      "Requirement already satisfied: fastavro<2.0.0,>=1.9.4 in c:\\users\\hishida\\repo\\rag-knowledge\\.venv\\lib\\site-packages (from cohere) (1.9.4)\n",
      "Requirement already satisfied: httpx-sse<0.5.0,>=0.4.0 in c:\\users\\hishida\\repo\\rag-knowledge\\.venv\\lib\\site-packages (from cohere) (0.4.0)\n",
      "Requirement already satisfied: parameterized<0.10.0,>=0.9.0 in c:\\users\\hishida\\repo\\rag-knowledge\\.venv\\lib\\site-packages (from cohere) (0.9.0)\n",
      "Requirement already satisfied: requests<3.0.0,>=2.0.0 in c:\\users\\hishida\\repo\\rag-knowledge\\.venv\\lib\\site-packages (from cohere) (2.32.3)\n",
      "Requirement already satisfied: tokenizers<1,>=0.15 in c:\\users\\hishida\\repo\\rag-knowledge\\.venv\\lib\\site-packages (from cohere) (0.19.1)\n",
      "Requirement already satisfied: types-requests<3.0.0,>=2.0.0 in c:\\users\\hishida\\repo\\rag-knowledge\\.venv\\lib\\site-packages (from cohere) (2.32.0.20240602)\n",
      "Requirement already satisfied: isodate<1.0.0,>=0.6.1 in c:\\users\\hishida\\repo\\rag-knowledge\\.venv\\lib\\site-packages (from azure-ai-vision-imageanalysis) (0.6.1)\n",
      "Requirement already satisfied: idna>=2.8 in c:\\users\\hishida\\repo\\rag-knowledge\\.venv\\lib\\site-packages (from anyio<5,>=3.5.0->openai) (3.7)\n",
      "Requirement already satisfied: six>=1.11.0 in c:\\users\\hishida\\repo\\rag-knowledge\\.venv\\lib\\site-packages (from azure-core>=1.23.0->azure-identity) (1.16.0)\n",
      "Requirement already satisfied: botocore<1.35.0,>=1.34.131 in c:\\users\\hishida\\repo\\rag-knowledge\\.venv\\lib\\site-packages (from boto3<2.0.0,>=1.34.0->cohere) (1.34.131)\n",
      "Requirement already satisfied: jmespath<2.0.0,>=0.7.1 in c:\\users\\hishida\\repo\\rag-knowledge\\.venv\\lib\\site-packages (from boto3<2.0.0,>=1.34.0->cohere) (1.0.1)\n",
      "Requirement already satisfied: s3transfer<0.11.0,>=0.10.0 in c:\\users\\hishida\\repo\\rag-knowledge\\.venv\\lib\\site-packages (from boto3<2.0.0,>=1.34.0->cohere) (0.10.1)\n",
      "Requirement already satisfied: cffi>=1.12 in c:\\users\\hishida\\repo\\rag-knowledge\\.venv\\lib\\site-packages (from cryptography>=2.5->azure-identity) (1.16.0)\n",
      "Requirement already satisfied: certifi in c:\\users\\hishida\\repo\\rag-knowledge\\.venv\\lib\\site-packages (from httpx<1,>=0.23.0->openai) (2024.6.2)\n",
      "Requirement already satisfied: httpcore==1.* in c:\\users\\hishida\\repo\\rag-knowledge\\.venv\\lib\\site-packages (from httpx<1,>=0.23.0->openai) (1.0.5)\n",
      "Requirement already satisfied: h11<0.15,>=0.13 in c:\\users\\hishida\\repo\\rag-knowledge\\.venv\\lib\\site-packages (from httpcore==1.*->httpx<1,>=0.23.0->openai) (0.14.0)\n",
      "Requirement already satisfied: PyJWT<3,>=1.0.0 in c:\\users\\hishida\\repo\\rag-knowledge\\.venv\\lib\\site-packages (from PyJWT[crypto]<3,>=1.0.0->msal>=1.24.0->azure-identity) (2.8.0)\n",
      "Requirement already satisfied: packaging in c:\\users\\hishida\\repo\\rag-knowledge\\.venv\\lib\\site-packages (from msal-extensions>=0.3.0->azure-identity) (24.1)\n",
      "Requirement already satisfied: portalocker<3,>=1.6 in c:\\users\\hishida\\repo\\rag-knowledge\\.venv\\lib\\site-packages (from msal-extensions>=0.3.0->azure-identity) (2.8.2)\n",
      "Requirement already satisfied: annotated-types>=0.4.0 in c:\\users\\hishida\\repo\\rag-knowledge\\.venv\\lib\\site-packages (from pydantic<3,>=1.9.0->openai) (0.7.0)\n",
      "Requirement already satisfied: pydantic-core==2.18.4 in c:\\users\\hishida\\repo\\rag-knowledge\\.venv\\lib\\site-packages (from pydantic<3,>=1.9.0->openai) (2.18.4)\n",
      "Requirement already satisfied: charset-normalizer<4,>=2 in c:\\users\\hishida\\repo\\rag-knowledge\\.venv\\lib\\site-packages (from requests<3.0.0,>=2.0.0->cohere) (3.3.2)\n",
      "Requirement already satisfied: urllib3<3,>=1.21.1 in c:\\users\\hishida\\repo\\rag-knowledge\\.venv\\lib\\site-packages (from requests<3.0.0,>=2.0.0->cohere) (2.2.1)\n",
      "Requirement already satisfied: huggingface-hub<1.0,>=0.16.4 in c:\\users\\hishida\\repo\\rag-knowledge\\.venv\\lib\\site-packages (from tokenizers<1,>=0.15->cohere) (0.23.4)\n",
      "Requirement already satisfied: colorama in c:\\users\\hishida\\repo\\rag-knowledge\\.venv\\lib\\site-packages (from tqdm>4->openai) (0.4.6)\n",
      "Requirement already satisfied: python-dateutil<3.0.0,>=2.1 in c:\\users\\hishida\\repo\\rag-knowledge\\.venv\\lib\\site-packages (from botocore<1.35.0,>=1.34.131->boto3<2.0.0,>=1.34.0->cohere) (2.9.0.post0)\n",
      "Requirement already satisfied: pycparser in c:\\users\\hishida\\repo\\rag-knowledge\\.venv\\lib\\site-packages (from cffi>=1.12->cryptography>=2.5->azure-identity) (2.22)\n",
      "Requirement already satisfied: filelock in c:\\users\\hishida\\repo\\rag-knowledge\\.venv\\lib\\site-packages (from huggingface-hub<1.0,>=0.16.4->tokenizers<1,>=0.15->cohere) (3.15.3)\n",
      "Requirement already satisfied: fsspec>=2023.5.0 in c:\\users\\hishida\\repo\\rag-knowledge\\.venv\\lib\\site-packages (from huggingface-hub<1.0,>=0.16.4->tokenizers<1,>=0.15->cohere) (2024.6.0)\n",
      "Requirement already satisfied: pyyaml>=5.1 in c:\\users\\hishida\\repo\\rag-knowledge\\.venv\\lib\\site-packages (from huggingface-hub<1.0,>=0.16.4->tokenizers<1,>=0.15->cohere) (6.0.1)\n",
      "Requirement already satisfied: pywin32>=226 in c:\\users\\hishida\\repo\\rag-knowledge\\.venv\\lib\\site-packages (from portalocker<3,>=1.6->msal-extensions>=0.3.0->azure-identity) (306)\n",
      "Requirement already satisfied: azure-storage-blob in c:\\users\\hishida\\repo\\rag-knowledge\\.venv\\lib\\site-packages (12.20.0)\n",
      "Requirement already satisfied: azure-core>=1.28.0 in c:\\users\\hishida\\repo\\rag-knowledge\\.venv\\lib\\site-packages (from azure-storage-blob) (1.30.2)\n",
      "Requirement already satisfied: cryptography>=2.1.4 in c:\\users\\hishida\\repo\\rag-knowledge\\.venv\\lib\\site-packages (from azure-storage-blob) (42.0.8)\n",
      "Requirement already satisfied: typing-extensions>=4.6.0 in c:\\users\\hishida\\repo\\rag-knowledge\\.venv\\lib\\site-packages (from azure-storage-blob) (4.12.2)\n",
      "Requirement already satisfied: isodate>=0.6.1 in c:\\users\\hishida\\repo\\rag-knowledge\\.venv\\lib\\site-packages (from azure-storage-blob) (0.6.1)\n",
      "Requirement already satisfied: requests>=2.21.0 in c:\\users\\hishida\\repo\\rag-knowledge\\.venv\\lib\\site-packages (from azure-core>=1.28.0->azure-storage-blob) (2.32.3)\n",
      "Requirement already satisfied: six>=1.11.0 in c:\\users\\hishida\\repo\\rag-knowledge\\.venv\\lib\\site-packages (from azure-core>=1.28.0->azure-storage-blob) (1.16.0)\n",
      "Requirement already satisfied: cffi>=1.12 in c:\\users\\hishida\\repo\\rag-knowledge\\.venv\\lib\\site-packages (from cryptography>=2.1.4->azure-storage-blob) (1.16.0)\n",
      "Requirement already satisfied: pycparser in c:\\users\\hishida\\repo\\rag-knowledge\\.venv\\lib\\site-packages (from cffi>=1.12->cryptography>=2.1.4->azure-storage-blob) (2.22)\n",
      "Requirement already satisfied: charset-normalizer<4,>=2 in c:\\users\\hishida\\repo\\rag-knowledge\\.venv\\lib\\site-packages (from requests>=2.21.0->azure-core>=1.28.0->azure-storage-blob) (3.3.2)\n",
      "Requirement already satisfied: idna<4,>=2.5 in c:\\users\\hishida\\repo\\rag-knowledge\\.venv\\lib\\site-packages (from requests>=2.21.0->azure-core>=1.28.0->azure-storage-blob) (3.7)\n",
      "Requirement already satisfied: urllib3<3,>=1.21.1 in c:\\users\\hishida\\repo\\rag-knowledge\\.venv\\lib\\site-packages (from requests>=2.21.0->azure-core>=1.28.0->azure-storage-blob) (2.2.1)\n",
      "Requirement already satisfied: certifi>=2017.4.17 in c:\\users\\hishida\\repo\\rag-knowledge\\.venv\\lib\\site-packages (from requests>=2.21.0->azure-core>=1.28.0->azure-storage-blob) (2024.6.2)\n"
     ]
    }
   ],
   "source": [
    "! pip install azure-search-documents==11.6.0b4\n",
    "! pip install openai python-dotenv azure-identity cohere azure-ai-vision-imageanalysis\n",
    "! pip install azure-storage-blob"
   ]
  },
  {
   "cell_type": "code",
   "execution_count": 2,
   "metadata": {},
   "outputs": [],
   "source": [
    "import os\n",
    "\n",
    "from azure.core.credentials import AzureKeyCredential\n",
    "from azure.identity import DefaultAzureCredential, get_bearer_token_provider\n",
    "from azure.search.documents import SearchClient\n",
    "from azure.search.documents.indexes import SearchIndexClient, SearchIndexerClient\n",
    "from azure.search.documents.indexes.models import (\n",
    "    AIServicesVisionParameters,\n",
    "    AIServicesVisionVectorizer,\n",
    "    AIStudioModelCatalogName,\n",
    "    AzureMachineLearningVectorizer,\n",
    "    AzureOpenAIVectorizer,\n",
    "    AzureOpenAIModelName,\n",
    "    AzureOpenAIParameters,\n",
    "    BlobIndexerDataToExtract,\n",
    "    BlobIndexerParsingMode,\n",
    "    CognitiveServicesAccountKey,\n",
    "    DefaultCognitiveServicesAccount,\n",
    "    ExhaustiveKnnAlgorithmConfiguration,\n",
    "    ExhaustiveKnnParameters,\n",
    "    FieldMapping,\n",
    "    HnswAlgorithmConfiguration,\n",
    "    HnswParameters,\n",
    "    IndexerExecutionStatus,\n",
    "    IndexingParameters,\n",
    "    IndexingParametersConfiguration,\n",
    "    InputFieldMappingEntry,\n",
    "    OutputFieldMappingEntry,\n",
    "    ScalarQuantizationCompressionConfiguration,\n",
    "    ScalarQuantizationParameters,\n",
    "    SearchField,\n",
    "    SearchFieldDataType,\n",
    "    SearchIndex,\n",
    "    SearchIndexer,\n",
    "    SearchIndexerDataContainer,\n",
    "    SearchIndexerDataIdentity,\n",
    "    SearchIndexerDataSourceConnection,\n",
    "    SearchIndexerSkillset,\n",
    "    SemanticConfiguration,\n",
    "    SemanticField,\n",
    "    SemanticPrioritizedFields,\n",
    "    SemanticSearch,\n",
    "    SimpleField,\n",
    "    VectorSearch,\n",
    "    VectorSearchAlgorithmKind,\n",
    "    VectorSearchAlgorithmMetric,\n",
    "    VectorSearchProfile,\n",
    "    VisionVectorizeSkill\n",
    ")\n",
    "from azure.search.documents.models import (\n",
    "    HybridCountAndFacetMode,\n",
    "    HybridSearch,\n",
    "    SearchScoreThreshold,\n",
    "    VectorizableTextQuery,\n",
    "    VectorizableImageBinaryQuery,\n",
    "    VectorizableImageUrlQuery,\n",
    "    VectorSimilarityThreshold,\n",
    ")\n",
    "from azure.storage.blob import BlobServiceClient\n",
    "from dotenv import load_dotenv\n",
    "from IPython.display import Image, display, HTML\n",
    "from openai import AzureOpenAI"
   ]
  },
  {
   "cell_type": "code",
   "execution_count": 5,
   "metadata": {},
   "outputs": [],
   "source": [
    "# Load environment variables\n",
    "load_dotenv()\n",
    "\n",
    "# Configuration\n",
    "AZURE_AI_VISION_API_KEY = os.getenv(\"AZURE_AI_VISION_API_KEY\")\n",
    "AZURE_AI_VISION_ENDPOINT = os.getenv(\"AZURE_AI_VISION_ENDPOINT\")\n",
    "AZURE_OPENAI_ENDPOINT = os.getenv(\"AZURE_OPENAI_ENDPOINT\")\n",
    "BLOB_CONNECTION_STRING = os.getenv(\"BLOB_CONNECTION_STRING\")\n",
    "BLOB_CONTAINER_NAME = os.getenv(\"BLOB_CONTAINER_NAME\")\n",
    "INDEX_NAME = \"rag-search-index-pull-0621\"\n",
    "AZURE_SEARCH_ADMIN_KEY = os.getenv(\"AZURE_SEARCH_ADMIN_KEY\")\n",
    "AZURE_SEARCH_ENDPOINT = os.getenv(\"AZURE_SEARCH_ENDPOINT\")"
   ]
  },
  {
   "cell_type": "code",
   "execution_count": 6,
   "metadata": {},
   "outputs": [
    {
     "name": "stdout",
     "output_type": "stream",
     "text": [
      "Using API keys for authentication.\n"
     ]
    }
   ],
   "source": [
    "# User-specified parameter\n",
    "USE_AAD_FOR_SEARCH = False  # Set this to False to use API key for authentication\n",
    "\n",
    "def authenticate_azure_search(api_key=None, use_aad_for_search=False):\n",
    "    if use_aad_for_search:\n",
    "        print(\"Using AAD for authentication.\")\n",
    "        credential = DefaultAzureCredential()\n",
    "    else:\n",
    "        print(\"Using API keys for authentication.\")\n",
    "        if api_key is None:\n",
    "            raise ValueError(\"API key must be provided if not using AAD for authentication.\")\n",
    "        credential = AzureKeyCredential(api_key)\n",
    "    return credential\n",
    "\n",
    "azure_search_credential = authenticate_azure_search(api_key=AZURE_SEARCH_ADMIN_KEY, use_aad_for_search=USE_AAD_FOR_SEARCH)"
   ]
  },
  {
   "cell_type": "markdown",
   "metadata": {},
   "source": []
  }
 ],
 "metadata": {
  "kernelspec": {
   "display_name": ".venv",
   "language": "python",
   "name": "python3"
  },
  "language_info": {
   "codemirror_mode": {
    "name": "ipython",
    "version": 3
   },
   "file_extension": ".py",
   "mimetype": "text/x-python",
   "name": "python",
   "nbconvert_exporter": "python",
   "pygments_lexer": "ipython3",
   "version": "3.12.3"
  }
 },
 "nbformat": 4,
 "nbformat_minor": 2
}
