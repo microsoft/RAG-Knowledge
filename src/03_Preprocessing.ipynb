{
 "cells": [
  {
   "cell_type": "markdown",
   "metadata": {},
   "source": [
    "# Preprocessing"
   ]
  },
  {
   "cell_type": "markdown",
   "metadata": {},
   "source": [
    "## Setup"
   ]
  },
  {
   "cell_type": "code",
   "execution_count": 1,
   "metadata": {},
   "outputs": [],
   "source": [
    "import os\n",
    "from dotenv import load_dotenv\n",
    "from azure.core.credentials import AzureKeyCredential\n",
    "from azure.ai.documentintelligence import DocumentIntelligenceClient\n",
    "from azure.ai.documentintelligence.models import ContentFormat\n",
    "from openai import AzureOpenAI\n",
    "from preprocessing.preprocessing_with_image import analyze_layout\n",
    "from chunking.split_documents import split_markdown_headings"
   ]
  },
  {
   "cell_type": "code",
   "execution_count": 2,
   "metadata": {},
   "outputs": [],
   "source": [
    "load_dotenv()\n",
    "\n",
    "AZURE_DOCUMENT_INTELLIGENCE_ENDPOINT = os.getenv(\"AZURE_DOCUMENT_INTELLIGENCE_ENDPOINT\")\n",
    "AZURE_DOCUMENT_INTELLIGENCE_KEY = os.getenv(\"AZURE_DOCUMENT_INTELLIGENCE_KEY\")\n",
    "\n",
    "AZURE_OPENAI_ENDPOINT = os.getenv(\"AZURE_OPENAI_ENDPOINT\")\n",
    "AZURE_OPENAI_API_KEY= os.getenv(\"AZURE_OPENAI_API_KEY\")\n",
    "aoai_deployment_name = 'gpt-4o' # your model deployment name for GPT-4o\n",
    "aoai_api_version = '2024-02-01' # this might change in the future\n",
    "\n",
    "AZURE_SEARCH_ENDPOINT = os.getenv(\"AZURE_SEARCH_ENDPOINT\")\n",
    "AZURE_SEARCH_ADMIN_KEY = os.getenv(\"AZURE_SEARCH_ADMIN_KEY\")\n",
    "\n",
    "BLOB_CONNECTION_STRING = os.getenv(\"BLOB_CONNECTION_STRING\")"
   ]
  },
  {
   "cell_type": "code",
   "execution_count": 3,
   "metadata": {},
   "outputs": [],
   "source": [
    "import os\n",
    "\n",
    "directory_path = '../data/03_business_docs/'\n",
    "output_dir_images = \"../output/03_output/images\"\n",
    "output_dir_documents = \"../output/03_output/documents\"\n",
    "os.makedirs(output_dir_images, exist_ok=True)\n",
    "os.makedirs(output_dir_documents, exist_ok=True)"
   ]
  },
  {
   "cell_type": "markdown",
   "metadata": {},
   "source": [
    "## Extracting text and images from document by Document Intelligence"
   ]
  },
  {
   "cell_type": "code",
   "execution_count": null,
   "metadata": {},
   "outputs": [],
   "source": [
    "# List all PDF files in the directory\n",
    "pdf_files = [f for f in os.listdir(directory_path) if f.endswith('.pdf')]\n",
    "\n",
    "# Loop through each PDF file and call the analyze_layout function\n",
    "for pdf_file in pdf_files:\n",
    "    file_path = os.path.join(directory_path, pdf_file)\n",
    "    md_content = analyze_layout(\n",
    "\t\tfile_path,\n",
    "\t\toutput_dir_images,\n",
    "\t\tAZURE_DOCUMENT_INTELLIGENCE_ENDPOINT,\n",
    "\t\tAZURE_DOCUMENT_INTELLIGENCE_KEY,\n",
    "\t\tAZURE_OPENAI_ENDPOINT,\n",
    "\t\tAZURE_OPENAI_API_KEY,\n",
    "\t\taoai_deployment_name,\n",
    "\t\taoai_api_version)\n",
    "    \n",
    "    with open(f\"{output_dir_documents}/{os.path.splitext(os.path.basename(file_path))[0]}.md\", 'w', encoding='utf-8') as f:\n",
    "        f.write(md_content)"
   ]
  }
 ],
 "metadata": {
  "kernelspec": {
   "display_name": ".venv",
   "language": "python",
   "name": "python3"
  },
  "language_info": {
   "codemirror_mode": {
    "name": "ipython",
    "version": 3
   },
   "file_extension": ".py",
   "mimetype": "text/x-python",
   "name": "python",
   "nbconvert_exporter": "python",
   "pygments_lexer": "ipython3",
   "version": "3.12.7"
  }
 },
 "nbformat": 4,
 "nbformat_minor": 2
}
